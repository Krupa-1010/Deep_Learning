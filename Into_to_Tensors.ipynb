{
  "nbformat": 4,
  "nbformat_minor": 0,
  "metadata": {
    "colab": {
      "provenance": [],
      "authorship_tag": "ABX9TyPD4TYHCf6OVWleda8PTla5",
      "include_colab_link": true
    },
    "kernelspec": {
      "name": "python3",
      "display_name": "Python 3"
    },
    "language_info": {
      "name": "python"
    }
  },
  "cells": [
    {
      "cell_type": "markdown",
      "metadata": {
        "id": "view-in-github",
        "colab_type": "text"
      },
      "source": [
        "<a href=\"https://colab.research.google.com/github/Krupa-1010/Deep_Learning/blob/main/Into_to_Tensors.ipynb\" target=\"_parent\"><img src=\"https://colab.research.google.com/assets/colab-badge.svg\" alt=\"Open In Colab\"/></a>"
      ]
    },
    {
      "cell_type": "markdown",
      "source": [
        "Tensor\n"
      ],
      "metadata": {
        "id": "aatArOIxYgpw"
      }
    },
    {
      "cell_type": "code",
      "execution_count": null,
      "metadata": {
        "id": "oTNAyYfyUGcW"
      },
      "outputs": [],
      "source": [
        "import torch"
      ]
    },
    {
      "cell_type": "code",
      "source": [
        "tensor=torch.randn(3,6)\n",
        "tensor"
      ],
      "metadata": {
        "id": "A5L80bpmWmjh",
        "outputId": "e9e74f40-ed94-4612-ddcd-cfb83dcfeae7",
        "colab": {
          "base_uri": "https://localhost:8080/"
        }
      },
      "execution_count": null,
      "outputs": [
        {
          "output_type": "execute_result",
          "data": {
            "text/plain": [
              "tensor([[ 0.8583,  1.6691, -0.4880,  1.4326, -0.4127, -0.9598],\n",
              "        [ 1.6613, -0.0925, -0.3319,  2.0958,  1.9515, -0.6550],\n",
              "        [ 0.1397,  0.3576,  0.0935, -0.0062,  0.2750,  1.2806]])"
            ]
          },
          "metadata": {},
          "execution_count": 6
        }
      ]
    },
    {
      "cell_type": "code",
      "source": [
        "tensor_3d=torch.zeros(2,3,4)\n",
        "tensor_3d"
      ],
      "metadata": {
        "id": "0jz98HzcXFsQ",
        "outputId": "b4043031-14fb-4bf2-fd35-93ea29648404",
        "colab": {
          "base_uri": "https://localhost:8080/"
        }
      },
      "execution_count": null,
      "outputs": [
        {
          "output_type": "execute_result",
          "data": {
            "text/plain": [
              "tensor([[[0., 0., 0., 0.],\n",
              "         [0., 0., 0., 0.],\n",
              "         [0., 0., 0., 0.]],\n",
              "\n",
              "        [[0., 0., 0., 0.],\n",
              "         [0., 0., 0., 0.],\n",
              "         [0., 0., 0., 0.]]])"
            ]
          },
          "metadata": {},
          "execution_count": 8
        }
      ]
    },
    {
      "cell_type": "code",
      "source": [
        "import numpy as np\n",
        "arr=np.array([[2,3,4],[5,6,7]])\n",
        "new_tensor=torch.tensor(arr)\n",
        "new_tensor\n",
        "\n"
      ],
      "metadata": {
        "id": "XstJkiLiXhJu",
        "outputId": "042b7de5-fb75-4ff2-c722-0f1727ecb83b",
        "colab": {
          "base_uri": "https://localhost:8080/"
        }
      },
      "execution_count": null,
      "outputs": [
        {
          "output_type": "execute_result",
          "data": {
            "text/plain": [
              "torch.int64"
            ]
          },
          "metadata": {},
          "execution_count": 13
        }
      ]
    },
    {
      "cell_type": "markdown",
      "source": [
        "Tensor Operations"
      ],
      "metadata": {
        "id": "QucM1nwjZIfm"
      }
    },
    {
      "cell_type": "code",
      "source": [
        "my_torch=torch.arange(10)\n",
        "my_torch"
      ],
      "metadata": {
        "id": "Im9tWecuZETI",
        "outputId": "a501c276-1c03-4529-eba3-16c95763f897",
        "colab": {
          "base_uri": "https://localhost:8080/"
        }
      },
      "execution_count": 14,
      "outputs": [
        {
          "output_type": "execute_result",
          "data": {
            "text/plain": [
              "tensor([0, 1, 2, 3, 4, 5, 6, 7, 8, 9])"
            ]
          },
          "metadata": {},
          "execution_count": 14
        }
      ]
    },
    {
      "cell_type": "code",
      "source": [
        "#Reshape\n",
        "my_torch=my_torch.reshape(2,5)\n",
        "my_torch"
      ],
      "metadata": {
        "id": "sNhlpocrZghm",
        "outputId": "60fce178-2bf0-4680-c0d8-76dd7c717829",
        "colab": {
          "base_uri": "https://localhost:8080/"
        }
      },
      "execution_count": 17,
      "outputs": [
        {
          "output_type": "execute_result",
          "data": {
            "text/plain": [
              "tensor([[0, 1, 2, 3, 4],\n",
              "        [5, 6, 7, 8, 9]])"
            ]
          },
          "metadata": {},
          "execution_count": 17
        }
      ]
    },
    {
      "cell_type": "code",
      "source": [
        "#reshape if dont know the no of items\n",
        "trch2=torch.arange(10)\n",
        "trch2"
      ],
      "metadata": {
        "id": "cuKGmu-KZrpn",
        "outputId": "119bf558-8e5e-45b5-8166-c24f997e4013",
        "colab": {
          "base_uri": "https://localhost:8080/"
        }
      },
      "execution_count": 18,
      "outputs": [
        {
          "output_type": "execute_result",
          "data": {
            "text/plain": [
              "tensor([0, 1, 2, 3, 4, 5, 6, 7, 8, 9])"
            ]
          },
          "metadata": {},
          "execution_count": 18
        }
      ]
    },
    {
      "cell_type": "code",
      "source": [
        "trch2=trch2.reshape(-1,5)\n",
        "trch2"
      ],
      "metadata": {
        "id": "4n4FX2-1Z4SW",
        "outputId": "336e3572-c638-486e-f7fa-10366564df46",
        "colab": {
          "base_uri": "https://localhost:8080/"
        }
      },
      "execution_count": 23,
      "outputs": [
        {
          "output_type": "execute_result",
          "data": {
            "text/plain": [
              "tensor([[0, 1, 2, 3, 4],\n",
              "        [5, 6, 7, 8, 9]])"
            ]
          },
          "metadata": {},
          "execution_count": 23
        }
      ]
    },
    {
      "cell_type": "code",
      "source": [
        "trc3=torch.arange(10)\n",
        "trc3\n",
        "trc3[2]=9\n",
        "trc3"
      ],
      "metadata": {
        "id": "8TO9DjQVaG9Q",
        "outputId": "e8c4436e-5ac0-4b7d-a7fc-b72cbadee57c",
        "colab": {
          "base_uri": "https://localhost:8080/"
        }
      },
      "execution_count": 27,
      "outputs": [
        {
          "output_type": "execute_result",
          "data": {
            "text/plain": [
              "tensor([0, 1, 9, 3, 4, 5, 6, 7, 8, 9])"
            ]
          },
          "metadata": {},
          "execution_count": 27
        }
      ]
    },
    {
      "cell_type": "code",
      "source": [
        "trc3=trc3.view(2,5)\n",
        "trc3"
      ],
      "metadata": {
        "id": "rXG0cN9DaOgf",
        "outputId": "0b7eceae-b1db-472c-e988-b7ed1e5cc6d3",
        "colab": {
          "base_uri": "https://localhost:8080/"
        }
      },
      "execution_count": 28,
      "outputs": [
        {
          "output_type": "execute_result",
          "data": {
            "text/plain": [
              "tensor([[0, 1, 9, 3, 4],\n",
              "        [5, 6, 7, 8, 9]])"
            ]
          },
          "metadata": {},
          "execution_count": 28
        }
      ]
    },
    {
      "cell_type": "code",
      "source": [
        "#slice\n",
        "print(trc3[:,1])"
      ],
      "metadata": {
        "id": "EnfvSbjnbLam",
        "outputId": "bf23245b-a9a2-48dc-dadc-0a4e00c50cd3",
        "colab": {
          "base_uri": "https://localhost:8080/"
        }
      },
      "execution_count": 29,
      "outputs": [
        {
          "output_type": "stream",
          "name": "stdout",
          "text": [
            "tensor([1, 6])\n"
          ]
        }
      ]
    },
    {
      "cell_type": "code",
      "source": [
        "#return column\n",
        "print(trc3[:,1:])"
      ],
      "metadata": {
        "id": "SuPzuYDxbg6u",
        "outputId": "a7abfa42-5b42-4811-efbd-aed0a4c507aa",
        "colab": {
          "base_uri": "https://localhost:8080/"
        }
      },
      "execution_count": 30,
      "outputs": [
        {
          "output_type": "stream",
          "name": "stdout",
          "text": [
            "tensor([[1, 9, 3, 4],\n",
            "        [6, 7, 8, 9]])\n"
          ]
        }
      ]
    },
    {
      "cell_type": "markdown",
      "source": [
        "Tensor Math Operations"
      ],
      "metadata": {
        "id": "_gB2QjQObv1v"
      }
    },
    {
      "cell_type": "code",
      "source": [
        "tensor1=torch.tensor([1,2,3,4])\n",
        "tensor2=torch.tensor([5,6,7,8])"
      ],
      "metadata": {
        "id": "fLc9xN-0bvFv"
      },
      "execution_count": 31,
      "outputs": []
    },
    {
      "cell_type": "code",
      "source": [
        "#addition\n",
        "tensor1+tensor2"
      ],
      "metadata": {
        "id": "wZ8fNlwWcNkn",
        "outputId": "6aba23ad-a403-4ea2-938a-8913fef67938",
        "colab": {
          "base_uri": "https://localhost:8080/"
        }
      },
      "execution_count": 32,
      "outputs": [
        {
          "output_type": "execute_result",
          "data": {
            "text/plain": [
              "tensor([ 6,  8, 10, 12])"
            ]
          },
          "metadata": {},
          "execution_count": 32
        }
      ]
    },
    {
      "cell_type": "code",
      "source": [
        "#addition longhand\n",
        "torch.add(tensor1,tensor2)"
      ],
      "metadata": {
        "id": "_ci_TuuTcT0W",
        "outputId": "6cd7e275-d8b8-4319-8b78-3db91d54f9e7",
        "colab": {
          "base_uri": "https://localhost:8080/"
        }
      },
      "execution_count": 33,
      "outputs": [
        {
          "output_type": "execute_result",
          "data": {
            "text/plain": [
              "tensor([ 6,  8, 10, 12])"
            ]
          },
          "metadata": {},
          "execution_count": 33
        }
      ]
    },
    {
      "cell_type": "code",
      "source": [
        "#subract\n",
        "tensor1-tensor2\n",
        "#or\n",
        "torch.sub(tensor1,tensor2)"
      ],
      "metadata": {
        "id": "zHb9A1qlcpCO",
        "outputId": "0b3a3b1e-881a-406c-8296-0efcba71bf81",
        "colab": {
          "base_uri": "https://localhost:8080/"
        }
      },
      "execution_count": 35,
      "outputs": [
        {
          "output_type": "execute_result",
          "data": {
            "text/plain": [
              "tensor([-4, -4, -4, -4])"
            ]
          },
          "metadata": {},
          "execution_count": 35
        }
      ]
    },
    {
      "cell_type": "code",
      "source": [
        "tensor1 * tensor2\n",
        "#or\n",
        "tensor1.mul(tensor2)"
      ],
      "metadata": {
        "id": "12cdT7Gec4EQ",
        "outputId": "1c403148-7ca3-41e8-ddcb-adf454030775",
        "colab": {
          "base_uri": "https://localhost:8080/"
        }
      },
      "execution_count": 37,
      "outputs": [
        {
          "output_type": "execute_result",
          "data": {
            "text/plain": [
              "tensor([ 5, 12, 21, 32])"
            ]
          },
          "metadata": {},
          "execution_count": 37
        }
      ]
    },
    {
      "cell_type": "code",
      "source": [
        "tensor1 / tensor2"
      ],
      "metadata": {
        "id": "vQn2m8AxdRQ2",
        "outputId": "675757b9-3c35-4dd1-dda2-94dab613ba1e",
        "colab": {
          "base_uri": "https://localhost:8080/"
        }
      },
      "execution_count": 38,
      "outputs": [
        {
          "output_type": "execute_result",
          "data": {
            "text/plain": [
              "tensor([0.2000, 0.3333, 0.4286, 0.5000])"
            ]
          },
          "metadata": {},
          "execution_count": 38
        }
      ]
    },
    {
      "cell_type": "code",
      "source": [
        "tensor2 % tensor1\n",
        "#or\n",
        "torch.remainder(tensor2,tensor1)"
      ],
      "metadata": {
        "id": "JGNMlFt6dZFh",
        "outputId": "4a8fa1b4-0c78-4a07-c6ec-630e70b15418",
        "colab": {
          "base_uri": "https://localhost:8080/"
        }
      },
      "execution_count": 40,
      "outputs": [
        {
          "output_type": "execute_result",
          "data": {
            "text/plain": [
              "tensor([0, 0, 1, 0])"
            ]
          },
          "metadata": {},
          "execution_count": 40
        }
      ]
    },
    {
      "cell_type": "code",
      "source": [
        "#EXPONEnt\n",
        "torch.pow(tensor1,2)"
      ],
      "metadata": {
        "id": "9dwuMDdcdoSO",
        "outputId": "a961f130-b2f2-426b-b615-165a1204c244",
        "colab": {
          "base_uri": "https://localhost:8080/"
        }
      },
      "execution_count": 41,
      "outputs": [
        {
          "output_type": "execute_result",
          "data": {
            "text/plain": [
              "tensor([ 1,  4,  9, 16])"
            ]
          },
          "metadata": {},
          "execution_count": 41
        }
      ]
    },
    {
      "cell_type": "code",
      "source": [
        "#reassignment(_)\n",
        "tensor1=tensor1+tensor2\n",
        "tensor1"
      ],
      "metadata": {
        "id": "WFWsQowlfJWW",
        "outputId": "01a93d5b-fbe5-4a37-e341-473c4a08d029",
        "colab": {
          "base_uri": "https://localhost:8080/"
        }
      },
      "execution_count": 43,
      "outputs": [
        {
          "output_type": "execute_result",
          "data": {
            "text/plain": [
              "tensor([11, 14, 17, 20])"
            ]
          },
          "metadata": {},
          "execution_count": 43
        }
      ]
    },
    {
      "cell_type": "code",
      "source": [
        "tensor1.add_(tensor2)\n",
        "tensor1"
      ],
      "metadata": {
        "id": "qaC7cGLZfaxm",
        "outputId": "cf6e6d8f-1994-481d-82f1-8207086fa9fa",
        "colab": {
          "base_uri": "https://localhost:8080/"
        }
      },
      "execution_count": 44,
      "outputs": [
        {
          "output_type": "execute_result",
          "data": {
            "text/plain": [
              "tensor([16, 20, 24, 28])"
            ]
          },
          "metadata": {},
          "execution_count": 44
        }
      ]
    },
    {
      "cell_type": "markdown",
      "source": [],
      "metadata": {
        "id": "LvcxTeaZZerW"
      }
    }
  ]
}