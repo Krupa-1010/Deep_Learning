{
  "nbformat": 4,
  "nbformat_minor": 0,
  "metadata": {
    "colab": {
      "provenance": [],
      "authorship_tag": "ABX9TyPeD6G9N88jTmHLZ0EXOaTA",
      "include_colab_link": true
    },
    "kernelspec": {
      "name": "python3",
      "display_name": "Python 3"
    },
    "language_info": {
      "name": "python"
    }
  },
  "cells": [
    {
      "cell_type": "markdown",
      "metadata": {
        "id": "view-in-github",
        "colab_type": "text"
      },
      "source": [
        "<a href=\"https://colab.research.google.com/github/Krupa-1010/Deep_Learning/blob/main/MNIST_CNN.ipynb\" target=\"_parent\"><img src=\"https://colab.research.google.com/assets/colab-badge.svg\" alt=\"Open In Colab\"/></a>"
      ]
    },
    {
      "cell_type": "code",
      "execution_count": 2,
      "metadata": {
        "id": "AG7B6K9pjuvf"
      },
      "outputs": [],
      "source": [
        "import torch\n",
        "import torch.nn as nn\n",
        "import torch.nn.functional as F\n",
        "from torch.utils.data import DataLoader\n",
        "from torchvision import datasets,transforms\n",
        "from torchvision.utils import make_grid\n",
        "\n",
        "import numpy as np\n",
        "import pandas as pd\n",
        "from sklearn.metrics import confusion_matrix\n",
        "import matplotlib.pyplot as plt\n",
        "%matplotlib inline"
      ]
    },
    {
      "cell_type": "code",
      "source": [
        "#convert MNIST images into tensor of 4dimensions(no.of images,heiht,width,channels)\n",
        "transform=transforms.ToTensor()"
      ],
      "metadata": {
        "id": "6QerM3Wflhuf"
      },
      "execution_count": 3,
      "outputs": []
    },
    {
      "cell_type": "code",
      "source": [
        "#Train Data\n",
        "train_data=datasets.MNIST(root='/cnn data',train=True,download=True,transform=transform)"
      ],
      "metadata": {
        "id": "3ZKg3YVEl5tk"
      },
      "execution_count": 4,
      "outputs": []
    },
    {
      "cell_type": "code",
      "source": [
        "#Test data\n",
        "test_data=datasets.MNIST(root='/cnn data',train=False,download=True,transform=transform)"
      ],
      "metadata": {
        "id": "MA4BwNIlmXZ1"
      },
      "execution_count": 5,
      "outputs": []
    },
    {
      "cell_type": "code",
      "source": [
        "train_data"
      ],
      "metadata": {
        "id": "1w4_XnXEmn8z",
        "outputId": "0a932328-f948-4317-cff4-a5265e2ddee5",
        "colab": {
          "base_uri": "https://localhost:8080/"
        }
      },
      "execution_count": 6,
      "outputs": [
        {
          "output_type": "execute_result",
          "data": {
            "text/plain": [
              "Dataset MNIST\n",
              "    Number of datapoints: 60000\n",
              "    Root location: /cnn data\n",
              "    Split: Train\n",
              "    StandardTransform\n",
              "Transform: ToTensor()"
            ]
          },
          "metadata": {},
          "execution_count": 6
        }
      ]
    },
    {
      "cell_type": "code",
      "source": [
        "test_data"
      ],
      "metadata": {
        "id": "oCPLCnnumrKT",
        "outputId": "948d413b-c021-4bf4-8c65-897d596c99f6",
        "colab": {
          "base_uri": "https://localhost:8080/"
        }
      },
      "execution_count": 7,
      "outputs": [
        {
          "output_type": "execute_result",
          "data": {
            "text/plain": [
              "Dataset MNIST\n",
              "    Number of datapoints: 10000\n",
              "    Root location: /cnn data\n",
              "    Split: Test\n",
              "    StandardTransform\n",
              "Transform: ToTensor()"
            ]
          },
          "metadata": {},
          "execution_count": 7
        }
      ]
    },
    {
      "cell_type": "code",
      "source": [
        "#create batch size of images\n",
        "train_loader=DataLoader(train_data,batch_size=10,shuffle=True)\n",
        "test_loader=DataLoader(test_data,batch_size=10,shuffle=False)"
      ],
      "metadata": {
        "id": "ScxuD7-foTyU"
      },
      "execution_count": 8,
      "outputs": []
    },
    {
      "cell_type": "code",
      "source": [
        "#describe conv layer\n",
        "conv1=nn.Conv2d(1,6,3,1)\n",
        "conv2=nn.Conv2d(6,16,3,1)"
      ],
      "metadata": {
        "id": "z9nH57Wmo_Gj"
      },
      "execution_count": null,
      "outputs": []
    },
    {
      "cell_type": "code",
      "source": [
        "#grab one MNIST data\n",
        "for i ,(X_train,y_train) in enumerate(train_data):\n",
        "  break"
      ],
      "metadata": {
        "id": "xjxxMuc2pi1L"
      },
      "execution_count": null,
      "outputs": []
    },
    {
      "cell_type": "code",
      "source": [
        "X_train.shape"
      ],
      "metadata": {
        "id": "pkVy147gpvOC",
        "outputId": "72e80733-572b-47d6-d51e-858add65d641",
        "colab": {
          "base_uri": "https://localhost:8080/"
        }
      },
      "execution_count": null,
      "outputs": [
        {
          "output_type": "execute_result",
          "data": {
            "text/plain": [
              "torch.Size([1, 28, 28])"
            ]
          },
          "metadata": {},
          "execution_count": 14
        }
      ]
    },
    {
      "cell_type": "code",
      "source": [
        "x=X_train.view(1,1,28,28) # RESHAPE TO 4 DIMENSION"
      ],
      "metadata": {
        "id": "ge5cUjpPqKuk"
      },
      "execution_count": null,
      "outputs": []
    },
    {
      "cell_type": "code",
      "source": [
        "x=F.relu(conv1(x))"
      ],
      "metadata": {
        "id": "iY4QP4QVqTxS"
      },
      "execution_count": null,
      "outputs": []
    },
    {
      "cell_type": "code",
      "source": [
        "#1-single image,6-filters,26*26 image size-no padding lost data change size from 28*28 to 26*26\n",
        "x.shape"
      ],
      "metadata": {
        "id": "2LrKLCmyqfvi",
        "outputId": "d14540b8-7847-46b6-c0d9-a0b2fb0f9466",
        "colab": {
          "base_uri": "https://localhost:8080/"
        }
      },
      "execution_count": null,
      "outputs": [
        {
          "output_type": "execute_result",
          "data": {
            "text/plain": [
              "torch.Size([1, 6, 26, 26])"
            ]
          },
          "metadata": {},
          "execution_count": 17
        }
      ]
    },
    {
      "cell_type": "code",
      "source": [
        "#pass a pooling layer\n",
        "x=F.max_pool2d(x,2,2)"
      ],
      "metadata": {
        "id": "ZR8ZArvCrGOm"
      },
      "execution_count": null,
      "outputs": []
    },
    {
      "cell_type": "code",
      "source": [
        "#26/2=13\n",
        "x.shape"
      ],
      "metadata": {
        "id": "93RMPMA7rU6r",
        "outputId": "ba0a3ce8-6d08-4f32-8022-03d3991f68e6",
        "colab": {
          "base_uri": "https://localhost:8080/"
        }
      },
      "execution_count": null,
      "outputs": [
        {
          "output_type": "execute_result",
          "data": {
            "text/plain": [
              "torch.Size([1, 6, 13, 13])"
            ]
          },
          "metadata": {},
          "execution_count": 19
        }
      ]
    },
    {
      "cell_type": "code",
      "source": [
        "#2nd convd layer\n",
        "x=F.relu(conv2(x))"
      ],
      "metadata": {
        "id": "ZjvnRfQ7riby"
      },
      "execution_count": null,
      "outputs": []
    },
    {
      "cell_type": "code",
      "source": [
        "#16=out, no padding so we loose 2 pixels around image\n",
        "x.shape"
      ],
      "metadata": {
        "id": "NMS8QcVfrqNK",
        "outputId": "57dba51b-ded8-411e-dc62-a9ee4c6d24de",
        "colab": {
          "base_uri": "https://localhost:8080/"
        }
      },
      "execution_count": null,
      "outputs": [
        {
          "output_type": "execute_result",
          "data": {
            "text/plain": [
              "torch.Size([1, 16, 11, 11])"
            ]
          },
          "metadata": {},
          "execution_count": 21
        }
      ]
    },
    {
      "cell_type": "code",
      "source": [
        "x=F.max_pool2d(x,2,2)"
      ],
      "metadata": {
        "id": "PqObL9YZr_5T"
      },
      "execution_count": null,
      "outputs": []
    },
    {
      "cell_type": "code",
      "source": [
        "x.shape"
      ],
      "metadata": {
        "id": "12CJAF4KsEtz",
        "outputId": "102521f5-7df4-4267-bdec-07b0c6f6f3f4",
        "colab": {
          "base_uri": "https://localhost:8080/"
        }
      },
      "execution_count": null,
      "outputs": [
        {
          "output_type": "execute_result",
          "data": {
            "text/plain": [
              "torch.Size([1, 16, 5, 5])"
            ]
          },
          "metadata": {},
          "execution_count": 23
        }
      ]
    },
    {
      "cell_type": "code",
      "source": [
        "#Model class\n",
        "class ConvolutionalNetwork(nn.Module):\n",
        "  def __init__(self):\n",
        "    super().__init__()\n",
        "    self.conv1=nn.Conv2d(1,6,3,1)\n",
        "    self.conv2=nn.Conv2d(6,16,3,1)\n",
        "    #Fully connected layer\n",
        "    self.fc1=nn.Linear(5*5*16,120)\n",
        "    self.fc2=nn.Linear(120,84)\n",
        "    self.fc3=nn.Linear(84,10)\n",
        "\n",
        "  def forward(self,x):\n",
        "    x=F.relu(self.conv1(x))\n",
        "    x=F.max_pool2d(x,2,2) # kernal -2*2 and stride 2\n",
        "    # pass 2\n",
        "    x=F.relu(self.conv2(x))\n",
        "    x=F.max_pool2d(x,2,2) # kernal -2*2 and stride 2\n",
        "\n",
        "    #Review to flatten it out\n",
        "    x=x.view(-1,16*5*5) #-1 so we can vary batch size\n",
        "\n",
        "    #Fully connected\n",
        "    x=F.relu(self.fc1(x))\n",
        "    x=F.relu(self.fc2(x))\n",
        "    x=self.fc3(x)\n",
        "\n",
        "    return F.log_softmax(x,dim=1)\n",
        "\n"
      ],
      "metadata": {
        "id": "JFnqCPyWOgXw"
      },
      "execution_count": 9,
      "outputs": []
    },
    {
      "cell_type": "code",
      "source": [
        "#create an instance of our Model\n",
        "torch.manual_seed(41)\n",
        "model=ConvolutionalNetwork()\n",
        "model"
      ],
      "metadata": {
        "id": "oFFq5kwaRaCI",
        "outputId": "1463139d-1485-4e86-b973-191a554af0b2",
        "colab": {
          "base_uri": "https://localhost:8080/"
        }
      },
      "execution_count": 35,
      "outputs": [
        {
          "output_type": "execute_result",
          "data": {
            "text/plain": [
              "ConvolutionalNetwork(\n",
              "  (conv1): Conv2d(1, 6, kernel_size=(3, 3), stride=(1, 1))\n",
              "  (conv2): Conv2d(6, 16, kernel_size=(3, 3), stride=(1, 1))\n",
              "  (fc1): Linear(in_features=400, out_features=120, bias=True)\n",
              "  (fc2): Linear(in_features=120, out_features=84, bias=True)\n",
              "  (fc3): Linear(in_features=84, out_features=10, bias=True)\n",
              ")"
            ]
          },
          "metadata": {},
          "execution_count": 35
        }
      ]
    },
    {
      "cell_type": "code",
      "source": [
        "#Loss function and optimizer\n",
        "criterion=nn.CrossEntropyLoss()\n",
        "optimizer=torch.optim.Adam(model.parameters(),lr=0.001)# smaller the learning rate ,longer the time"
      ],
      "metadata": {
        "id": "LpBXDuT5SFhH"
      },
      "execution_count": 36,
      "outputs": []
    },
    {
      "cell_type": "code",
      "source": [
        "import time\n",
        "start_time=time.time()\n",
        "#define variables\n",
        "epochs=5\n",
        "train_losses=[]\n",
        "test_losses=[]\n",
        "train_correct=[]\n",
        "test_correct=[]\n",
        "\n",
        "for i in range(epochs):\n",
        "  trn_correct=0\n",
        "  tst_corr=0\n",
        "\n",
        "  #train\n",
        "  for b,(X_train,y_train) in enumerate(train_loader):\n",
        "    b+=1\n",
        "    y_pred=model(X_train)#not falttened 2d\n",
        "    loss=criterion(y_pred,y_train)\n",
        "\n",
        "    predicted=torch.max(y_pred.data,1)[1]#add up no of correct predictions\n",
        "    batch_correct=(predicted == y_train).sum()#how many correct in a specific batch\n",
        "    trn_correct+=batch_correct\n",
        "\n",
        "    #update parameters\n",
        "    optimizer.zero_grad()\n",
        "    loss.backward()\n",
        "    optimizer.step()\n",
        "    #print results\n",
        "    if b%600 == 0:\n",
        "      print(f'epoch: {i} Batch: {b} loss={loss.item()}')\n",
        "\n",
        "\n",
        "  train_losses.append(loss)\n",
        "  train_correct.append(trn_correct)\n",
        "\n",
        "  #test\n",
        "  with torch.no_grad():\n",
        "    for b,(X_test,y_test) in enumerate(test_loader):\n",
        "      y_val=model(X_test)\n",
        "      predicted=torch.max(y_val.data,1)[1]\n",
        "      tst_corr+=(predicted == y_test).sum()\n",
        "\n",
        "    loss=criterion(y_val,y_test)\n",
        "    test_losses.append(loss)\n",
        "    test_correct.append(tst_corr)\n",
        "\n",
        "current_time=time.time()\n",
        "total=current_time-start_time\n",
        "print(f'Training took :{total/60} minutes')\n",
        "\n"
      ],
      "metadata": {
        "id": "B0CAJoECSMvY",
        "outputId": "5892d1e2-a0b9-4d34-e033-11f04af911d7",
        "colab": {
          "base_uri": "https://localhost:8080/"
        }
      },
      "execution_count": 37,
      "outputs": [
        {
          "output_type": "stream",
          "name": "stdout",
          "text": [
            "epoch: 0 Batch: 600 loss=0.1623610556125641\n",
            "epoch: 0 Batch: 1200 loss=0.1502392590045929\n",
            "epoch: 0 Batch: 1800 loss=0.4744560718536377\n",
            "epoch: 0 Batch: 2400 loss=0.14238706231117249\n",
            "epoch: 0 Batch: 3000 loss=0.007758188061416149\n",
            "epoch: 0 Batch: 3600 loss=0.3836284875869751\n",
            "epoch: 0 Batch: 4200 loss=0.0038223876617848873\n",
            "epoch: 0 Batch: 4800 loss=0.0021286322735249996\n",
            "epoch: 0 Batch: 5400 loss=0.0569545142352581\n",
            "epoch: 0 Batch: 6000 loss=0.00038789428072050214\n",
            "epoch: 1 Batch: 600 loss=0.005851339548826218\n",
            "epoch: 1 Batch: 1200 loss=0.3855525553226471\n",
            "epoch: 1 Batch: 1800 loss=0.004819948226213455\n",
            "epoch: 1 Batch: 2400 loss=0.003216963727027178\n",
            "epoch: 1 Batch: 3000 loss=0.0332382395863533\n",
            "epoch: 1 Batch: 3600 loss=0.5372857451438904\n",
            "epoch: 1 Batch: 4200 loss=0.04561494290828705\n",
            "epoch: 1 Batch: 4800 loss=0.0007510822033509612\n",
            "epoch: 1 Batch: 5400 loss=0.0001173773780465126\n",
            "epoch: 1 Batch: 6000 loss=0.14201366901397705\n",
            "epoch: 2 Batch: 600 loss=0.023733172565698624\n",
            "epoch: 2 Batch: 1200 loss=0.003455493599176407\n",
            "epoch: 2 Batch: 1800 loss=0.0008372392621822655\n",
            "epoch: 2 Batch: 2400 loss=0.010705141350626945\n",
            "epoch: 2 Batch: 3000 loss=0.008078320883214474\n",
            "epoch: 2 Batch: 3600 loss=0.0011862406972795725\n",
            "epoch: 2 Batch: 4200 loss=0.038080841302871704\n",
            "epoch: 2 Batch: 4800 loss=0.0016068397089838982\n",
            "epoch: 2 Batch: 5400 loss=0.138673797249794\n",
            "epoch: 2 Batch: 6000 loss=0.2449204921722412\n",
            "epoch: 3 Batch: 600 loss=0.007151054684072733\n",
            "epoch: 3 Batch: 1200 loss=0.011097034439444542\n",
            "epoch: 3 Batch: 1800 loss=0.0017998721450567245\n",
            "epoch: 3 Batch: 2400 loss=0.0001049584461725317\n",
            "epoch: 3 Batch: 3000 loss=0.0031431831885129213\n",
            "epoch: 3 Batch: 3600 loss=0.003668801160529256\n",
            "epoch: 3 Batch: 4200 loss=0.0037249946035444736\n",
            "epoch: 3 Batch: 4800 loss=0.00015864608576521277\n",
            "epoch: 3 Batch: 5400 loss=0.0796482041478157\n",
            "epoch: 3 Batch: 6000 loss=0.0808732658624649\n",
            "epoch: 4 Batch: 600 loss=0.014099588617682457\n",
            "epoch: 4 Batch: 1200 loss=0.0382874570786953\n",
            "epoch: 4 Batch: 1800 loss=0.16302265226840973\n",
            "epoch: 4 Batch: 2400 loss=0.02186887338757515\n",
            "epoch: 4 Batch: 3000 loss=0.0024396399967372417\n",
            "epoch: 4 Batch: 3600 loss=0.0013979513896629214\n",
            "epoch: 4 Batch: 4200 loss=0.000989563181065023\n",
            "epoch: 4 Batch: 4800 loss=0.010317974723875523\n",
            "epoch: 4 Batch: 5400 loss=0.16506639122962952\n",
            "epoch: 4 Batch: 6000 loss=0.0027098222635686398\n",
            "Training took :4.0271593689918515 minutes\n"
          ]
        }
      ]
    },
    {
      "cell_type": "code",
      "source": [
        "for i in train_losses:\n",
        "  print(i)"
      ],
      "metadata": {
        "id": "vfOU-XMdbpFn",
        "outputId": "4c7db2c4-3dd2-4626-ef63-f22280ebf3c6",
        "colab": {
          "base_uri": "https://localhost:8080/"
        }
      },
      "execution_count": 38,
      "outputs": [
        {
          "output_type": "stream",
          "name": "stdout",
          "text": [
            "tensor(0.0004, grad_fn=<NllLossBackward0>)\n",
            "tensor(0.1420, grad_fn=<NllLossBackward0>)\n",
            "tensor(0.2449, grad_fn=<NllLossBackward0>)\n",
            "tensor(0.0809, grad_fn=<NllLossBackward0>)\n",
            "tensor(0.0027, grad_fn=<NllLossBackward0>)\n"
          ]
        }
      ]
    },
    {
      "cell_type": "code",
      "source": [
        "#grap each epoch\n",
        "train_losses=[tl.item() for tl in train_losses]\n",
        "plt.plot(train_losses,label=\"Training loss\")\n",
        "plt.plot(test_losses,label=\"Testing loss\")\n",
        "plt.title(\"Loss at each epoch\")\n",
        "plt.legend()\n",
        "plt.show()"
      ],
      "metadata": {
        "id": "R2I1eAuBZQBn",
        "outputId": "1b56aa91-bd11-4b8b-f735-23962c69e5b3",
        "colab": {
          "base_uri": "https://localhost:8080/",
          "height": 452
        }
      },
      "execution_count": 39,
      "outputs": [
        {
          "output_type": "display_data",
          "data": {
            "text/plain": [
              "<Figure size 640x480 with 1 Axes>"
            ],
            "image/png": "[encoded data removed]"
          },
          "metadata": {}
        }
      ]
    },
    {
      "cell_type": "code",
      "source": [
        "plt.plot([t/600 for t in train_correct],label=\"training accuracy\")\n",
        "plt.plot([t/100 for t in test_correct],label=\"testing accuracy\")\n",
        "plt.title(\"Accuracy at each epoch\")\n",
        "plt.legend()\n",
        "plt.show()"
      ],
      "metadata": {
        "id": "-Twb8eI8eqR5",
        "outputId": "9213b5e0-ad03-4fce-8a3e-91c95487c61a",
        "colab": {
          "base_uri": "https://localhost:8080/",
          "height": 452
        }
      },
      "execution_count": 40,
      "outputs": [
        {
          "output_type": "display_data",
          "data": {
            "text/plain": [
              "<Figure size 640x480 with 1 Axes>"
            ],
            "image/png": "[encoded data removed]"
          },
          "metadata": {}
        }
      ]
    },
    {
      "cell_type": "code",
      "source": [
        "test_load_everything=DataLoader(test_data,batch_size=10000,shuffle=False)"
      ],
      "metadata": {
        "id": "GuEwfhwFfPIn"
      },
      "execution_count": 41,
      "outputs": []
    },
    {
      "cell_type": "code",
      "source": [
        "with torch.no_grad():\n",
        "  correct=0\n",
        "  for X_test,y_test in test_load_everything:\n",
        "    y_val=model(X_test)\n",
        "    predicted=torch.max(y_val.data,1)[1]\n",
        "    correct+=(predicted == y_test).sum()\n"
      ],
      "metadata": {
        "id": "_iBK3Z7jfaR3"
      },
      "execution_count": 42,
      "outputs": []
    },
    {
      "cell_type": "code",
      "source": [
        "correct.item()/len(test_data)"
      ],
      "metadata": {
        "id": "IV7c-EcIfysH",
        "outputId": "b930249b-d1d0-4a4e-caf9-7a51bb3d5375",
        "colab": {
          "base_uri": "https://localhost:8080/"
        }
      },
      "execution_count": 44,
      "outputs": [
        {
          "output_type": "execute_result",
          "data": {
            "text/plain": [
              "0.9857"
            ]
          },
          "metadata": {},
          "execution_count": 44
        }
      ]
    },
    {
      "cell_type": "code",
      "source": [
        "#grab an image\n",
        "test_data[9146]"
      ],
      "metadata": {
        "id": "NytYjZDYf6Rv",
        "outputId": "bba264aa-c736-420c-aa86-7ad0950a92bb",
        "colab": {
          "base_uri": "https://localhost:8080/"
        }
      },
      "execution_count": 52,
      "outputs": [
        {
          "output_type": "execute_result",
          "data": {
            "text/plain": [
              "(tensor([[[0.0000, 0.0000, 0.0000, 0.0000, 0.0000, 0.0000, 0.0000, 0.0000,\n",
              "           0.0000, 0.0000, 0.0000, 0.0000, 0.0000, 0.0000, 0.0000, 0.0000,\n",
              "           0.0000, 0.0000, 0.0000, 0.0000, 0.0000, 0.0000, 0.0000, 0.0000,\n",
              "           0.0000, 0.0000, 0.0000, 0.0000],\n",
              "          [0.0000, 0.0000, 0.0000, 0.0000, 0.0000, 0.0000, 0.0000, 0.0000,\n",
              "           0.0000, 0.0000, 0.0000, 0.0000, 0.0000, 0.0000, 0.0000, 0.0000,\n",
              "           0.0000, 0.0000, 0.0000, 0.0000, 0.0000, 0.0000, 0.0000, 0.0000,\n",
              "           0.0000, 0.0000, 0.0000, 0.0000],\n",
              "          [0.0000, 0.0000, 0.0000, 0.0000, 0.0000, 0.0000, 0.0000, 0.0000,\n",
              "           0.0000, 0.0000, 0.0000, 0.0000, 0.0000, 0.0000, 0.0000, 0.0000,\n",
              "           0.0000, 0.0000, 0.0000, 0.0000, 0.0000, 0.0000, 0.0000, 0.0000,\n",
              "           0.0000, 0.0000, 0.0000, 0.0000],\n",
              "          [0.0000, 0.0000, 0.0000, 0.0000, 0.0000, 0.0000, 0.0000, 0.0000,\n",
              "           0.0000, 0.0000, 0.0000, 0.0000, 0.0000, 0.0000, 0.2392, 0.8510,\n",
              "           0.9647, 0.1882, 0.0000, 0.0000, 0.0000, 0.0000, 0.0000, 0.0000,\n",
              "           0.0000, 0.0000, 0.0000, 0.0000],\n",
              "          [0.0000, 0.0000, 0.0000, 0.0000, 0.0000, 0.0000, 0.0000, 0.0000,\n",
              "           0.0000, 0.0000, 0.0000, 0.0000, 0.0000, 0.3098, 0.8980, 0.9961,\n",
              "           0.9922, 0.3059, 0.0000, 0.0000, 0.0000, 0.0000, 0.0000, 0.0000,\n",
              "           0.0000, 0.0000, 0.0000, 0.0000],\n",
              "          [0.0000, 0.0000, 0.0000, 0.0000, 0.0000, 0.0000, 0.0000, 0.0000,\n",
              "           0.0000, 0.0000, 0.0000, 0.0000, 0.0980, 0.8235, 0.9922, 0.9961,\n",
              "           0.8196, 0.0941, 0.0000, 0.0000, 0.0000, 0.0000, 0.0000, 0.0000,\n",
              "           0.0000, 0.0000, 0.0000, 0.0000],\n",
              "          [0.0000, 0.0000, 0.0000, 0.0000, 0.0000, 0.0000, 0.0000, 0.0000,\n",
              "           0.0000, 0.0000, 0.0000, 0.0000, 0.6588, 0.9922, 0.9922, 0.6627,\n",
              "           0.0392, 0.0000, 0.0000, 0.0000, 0.0000, 0.0000, 0.0000, 0.0000,\n",
              "           0.0000, 0.0000, 0.0000, 0.0000],\n",
              "          [0.0000, 0.0000, 0.0000, 0.0000, 0.0000, 0.0000, 0.0000, 0.0000,\n",
              "           0.0000, 0.0000, 0.0000, 0.3569, 0.9216, 0.9922, 0.6941, 0.0000,\n",
              "           0.0000, 0.0000, 0.0000, 0.0000, 0.0000, 0.0000, 0.0000, 0.0000,\n",
              "           0.0000, 0.0000, 0.0000, 0.0000],\n",
              "          [0.0000, 0.0000, 0.0000, 0.0000, 0.0000, 0.0000, 0.0000, 0.0000,\n",
              "           0.0000, 0.0000, 0.0549, 0.8784, 0.9961, 0.8118, 0.0902, 0.0000,\n",
              "           0.0000, 0.0000, 0.0000, 0.0000, 0.0000, 0.0000, 0.0000, 0.0000,\n",
              "           0.0000, 0.0000, 0.0000, 0.0000],\n",
              "          [0.0000, 0.0000, 0.0000, 0.0000, 0.0000, 0.0000, 0.0000, 0.0000,\n",
              "           0.0000, 0.0314, 0.4078, 0.9922, 0.9922, 0.4275, 0.0000, 0.0000,\n",
              "           0.0000, 0.0000, 0.0000, 0.0000, 0.0000, 0.0000, 0.0000, 0.0000,\n",
              "           0.0000, 0.0000, 0.0000, 0.0000],\n",
              "          [0.0000, 0.0000, 0.0000, 0.0000, 0.0000, 0.0000, 0.0000, 0.0000,\n",
              "           0.0000, 0.6471, 0.8784, 0.9922, 0.6588, 0.0235, 0.0000, 0.0000,\n",
              "           0.0000, 0.0000, 0.0000, 0.0000, 0.0000, 0.0000, 0.0000, 0.0000,\n",
              "           0.0000, 0.0000, 0.0000, 0.0000],\n",
              "          [0.0000, 0.0000, 0.0000, 0.0000, 0.0000, 0.0000, 0.0000, 0.0000,\n",
              "           0.1451, 0.8863, 0.9961, 0.9490, 0.1412, 0.0863, 0.1569, 0.4510,\n",
              "           0.3333, 0.5333, 0.3294, 0.1569, 0.0000, 0.0000, 0.0000, 0.0000,\n",
              "           0.0000, 0.0000, 0.0000, 0.0000],\n",
              "          [0.0000, 0.0000, 0.0000, 0.0000, 0.0000, 0.0000, 0.0000, 0.0000,\n",
              "           0.5333, 0.9922, 0.9961, 0.9451, 0.6471, 0.7373, 0.9922, 0.9961,\n",
              "           0.9922, 0.9922, 0.9922, 0.9922, 0.6784, 0.0588, 0.0000, 0.0000,\n",
              "           0.0000, 0.0000, 0.0000, 0.0000],\n",
              "          [0.0000, 0.0000, 0.0000, 0.0000, 0.0000, 0.0000, 0.0000, 0.0745,\n",
              "           0.7882, 0.9961, 1.0000, 0.9961, 0.9961, 0.9961, 0.9961, 1.0000,\n",
              "           0.9961, 0.9961, 0.9961, 0.9961, 1.0000, 0.6392, 0.0706, 0.0000,\n",
              "           0.0000, 0.0000, 0.0000, 0.0000],\n",
              "          [0.0000, 0.0000, 0.0000, 0.0000, 0.0000, 0.0000, 0.0000, 0.3098,\n",
              "           0.9922, 0.9922, 0.9961, 0.9922, 0.9922, 0.9922, 0.9294, 0.8275,\n",
              "           0.5294, 0.7961, 0.9137, 0.9725, 0.9961, 0.9922, 0.4824, 0.0000,\n",
              "           0.0000, 0.0000, 0.0000, 0.0000],\n",
              "          [0.0000, 0.0000, 0.0000, 0.0000, 0.0000, 0.0000, 0.0000, 0.3098,\n",
              "           0.9922, 0.9922, 0.9961, 0.9686, 0.5647, 0.3059, 0.0706, 0.0000,\n",
              "           0.0000, 0.0000, 0.0000, 0.6471, 0.9961, 0.9922, 0.6824, 0.0000,\n",
              "           0.0000, 0.0000, 0.0000, 0.0000],\n",
              "          [0.0000, 0.0000, 0.0000, 0.0000, 0.0000, 0.0000, 0.0000, 0.3098,\n",
              "           0.9922, 0.9922, 0.9961, 0.5569, 0.0000, 0.0000, 0.0000, 0.0000,\n",
              "           0.0000, 0.0000, 0.0000, 0.5882, 0.9961, 0.9922, 0.6824, 0.0000,\n",
              "           0.0000, 0.0000, 0.0000, 0.0000],\n",
              "          [0.0000, 0.0000, 0.0000, 0.0000, 0.0000, 0.0000, 0.0000, 0.4549,\n",
              "           0.9922, 0.9922, 0.9059, 0.1804, 0.0000, 0.0000, 0.0000, 0.0000,\n",
              "           0.0000, 0.0000, 0.2667, 0.9373, 0.9961, 0.9922, 0.5373, 0.0000,\n",
              "           0.0000, 0.0000, 0.0000, 0.0000],\n",
              "          [0.0000, 0.0000, 0.0000, 0.0000, 0.0000, 0.0000, 0.0000, 0.3098,\n",
              "           0.9961, 0.9961, 0.3255, 0.0000, 0.0000, 0.0000, 0.0000, 0.0549,\n",
              "           0.2627, 0.8784, 0.9961, 0.9961, 1.0000, 0.2980, 0.0000, 0.0000,\n",
              "           0.0000, 0.0000, 0.0000, 0.0000],\n",
              "          [0.0000, 0.0000, 0.0000, 0.0000, 0.0000, 0.0000, 0.0000, 0.3098,\n",
              "           0.9922, 0.9922, 0.9608, 0.6627, 0.4627, 0.4627, 0.6039, 0.8784,\n",
              "           0.9922, 0.9922, 0.9922, 0.9608, 0.4471, 0.0235, 0.0000, 0.0000,\n",
              "           0.0000, 0.0000, 0.0000, 0.0000],\n",
              "          [0.0000, 0.0000, 0.0000, 0.0000, 0.0000, 0.0000, 0.0000, 0.3098,\n",
              "           0.9922, 0.9922, 0.9961, 0.9922, 0.9922, 0.9922, 0.9922, 0.9961,\n",
              "           0.9922, 0.9922, 0.9412, 0.2745, 0.0000, 0.0000, 0.0000, 0.0000,\n",
              "           0.0000, 0.0000, 0.0000, 0.0000],\n",
              "          [0.0000, 0.0000, 0.0000, 0.0000, 0.0000, 0.0000, 0.0000, 0.0235,\n",
              "           0.4902, 0.8980, 0.9961, 0.9922, 0.9922, 0.9922, 0.9922, 0.9961,\n",
              "           0.8588, 0.5725, 0.0902, 0.0000, 0.0000, 0.0000, 0.0000, 0.0000,\n",
              "           0.0000, 0.0000, 0.0000, 0.0000],\n",
              "          [0.0000, 0.0000, 0.0000, 0.0000, 0.0000, 0.0000, 0.0000, 0.0000,\n",
              "           0.0000, 0.0902, 0.6078, 0.7843, 0.9922, 0.9294, 0.6078, 0.5216,\n",
              "           0.0353, 0.0000, 0.0000, 0.0000, 0.0000, 0.0000, 0.0000, 0.0000,\n",
              "           0.0000, 0.0000, 0.0000, 0.0000],\n",
              "          [0.0000, 0.0000, 0.0000, 0.0000, 0.0000, 0.0000, 0.0000, 0.0000,\n",
              "           0.0000, 0.0000, 0.0000, 0.0000, 0.0000, 0.0000, 0.0000, 0.0000,\n",
              "           0.0000, 0.0000, 0.0000, 0.0000, 0.0000, 0.0000, 0.0000, 0.0000,\n",
              "           0.0000, 0.0000, 0.0000, 0.0000],\n",
              "          [0.0000, 0.0000, 0.0000, 0.0000, 0.0000, 0.0000, 0.0000, 0.0000,\n",
              "           0.0000, 0.0000, 0.0000, 0.0000, 0.0000, 0.0000, 0.0000, 0.0000,\n",
              "           0.0000, 0.0000, 0.0000, 0.0000, 0.0000, 0.0000, 0.0000, 0.0000,\n",
              "           0.0000, 0.0000, 0.0000, 0.0000],\n",
              "          [0.0000, 0.0000, 0.0000, 0.0000, 0.0000, 0.0000, 0.0000, 0.0000,\n",
              "           0.0000, 0.0000, 0.0000, 0.0000, 0.0000, 0.0000, 0.0000, 0.0000,\n",
              "           0.0000, 0.0000, 0.0000, 0.0000, 0.0000, 0.0000, 0.0000, 0.0000,\n",
              "           0.0000, 0.0000, 0.0000, 0.0000],\n",
              "          [0.0000, 0.0000, 0.0000, 0.0000, 0.0000, 0.0000, 0.0000, 0.0000,\n",
              "           0.0000, 0.0000, 0.0000, 0.0000, 0.0000, 0.0000, 0.0000, 0.0000,\n",
              "           0.0000, 0.0000, 0.0000, 0.0000, 0.0000, 0.0000, 0.0000, 0.0000,\n",
              "           0.0000, 0.0000, 0.0000, 0.0000],\n",
              "          [0.0000, 0.0000, 0.0000, 0.0000, 0.0000, 0.0000, 0.0000, 0.0000,\n",
              "           0.0000, 0.0000, 0.0000, 0.0000, 0.0000, 0.0000, 0.0000, 0.0000,\n",
              "           0.0000, 0.0000, 0.0000, 0.0000, 0.0000, 0.0000, 0.0000, 0.0000,\n",
              "           0.0000, 0.0000, 0.0000, 0.0000]]]),\n",
              " 6)"
            ]
          },
          "metadata": {},
          "execution_count": 52
        }
      ]
    },
    {
      "cell_type": "code",
      "source": [
        "test_data[9146][0]"
      ],
      "metadata": {
        "id": "ilGqPYLugWc2",
        "outputId": "c1dda976-4932-4af7-9974-d01b1c710de2",
        "colab": {
          "base_uri": "https://localhost:8080/"
        }
      },
      "execution_count": 53,
      "outputs": [
        {
          "output_type": "execute_result",
          "data": {
            "text/plain": [
              "tensor([[[0.0000, 0.0000, 0.0000, 0.0000, 0.0000, 0.0000, 0.0000, 0.0000,\n",
              "          0.0000, 0.0000, 0.0000, 0.0000, 0.0000, 0.0000, 0.0000, 0.0000,\n",
              "          0.0000, 0.0000, 0.0000, 0.0000, 0.0000, 0.0000, 0.0000, 0.0000,\n",
              "          0.0000, 0.0000, 0.0000, 0.0000],\n",
              "         [0.0000, 0.0000, 0.0000, 0.0000, 0.0000, 0.0000, 0.0000, 0.0000,\n",
              "          0.0000, 0.0000, 0.0000, 0.0000, 0.0000, 0.0000, 0.0000, 0.0000,\n",
              "          0.0000, 0.0000, 0.0000, 0.0000, 0.0000, 0.0000, 0.0000, 0.0000,\n",
              "          0.0000, 0.0000, 0.0000, 0.0000],\n",
              "         [0.0000, 0.0000, 0.0000, 0.0000, 0.0000, 0.0000, 0.0000, 0.0000,\n",
              "          0.0000, 0.0000, 0.0000, 0.0000, 0.0000, 0.0000, 0.0000, 0.0000,\n",
              "          0.0000, 0.0000, 0.0000, 0.0000, 0.0000, 0.0000, 0.0000, 0.0000,\n",
              "          0.0000, 0.0000, 0.0000, 0.0000],\n",
              "         [0.0000, 0.0000, 0.0000, 0.0000, 0.0000, 0.0000, 0.0000, 0.0000,\n",
              "          0.0000, 0.0000, 0.0000, 0.0000, 0.0000, 0.0000, 0.2392, 0.8510,\n",
              "          0.9647, 0.1882, 0.0000, 0.0000, 0.0000, 0.0000, 0.0000, 0.0000,\n",
              "          0.0000, 0.0000, 0.0000, 0.0000],\n",
              "         [0.0000, 0.0000, 0.0000, 0.0000, 0.0000, 0.0000, 0.0000, 0.0000,\n",
              "          0.0000, 0.0000, 0.0000, 0.0000, 0.0000, 0.3098, 0.8980, 0.9961,\n",
              "          0.9922, 0.3059, 0.0000, 0.0000, 0.0000, 0.0000, 0.0000, 0.0000,\n",
              "          0.0000, 0.0000, 0.0000, 0.0000],\n",
              "         [0.0000, 0.0000, 0.0000, 0.0000, 0.0000, 0.0000, 0.0000, 0.0000,\n",
              "          0.0000, 0.0000, 0.0000, 0.0000, 0.0980, 0.8235, 0.9922, 0.9961,\n",
              "          0.8196, 0.0941, 0.0000, 0.0000, 0.0000, 0.0000, 0.0000, 0.0000,\n",
              "          0.0000, 0.0000, 0.0000, 0.0000],\n",
              "         [0.0000, 0.0000, 0.0000, 0.0000, 0.0000, 0.0000, 0.0000, 0.0000,\n",
              "          0.0000, 0.0000, 0.0000, 0.0000, 0.6588, 0.9922, 0.9922, 0.6627,\n",
              "          0.0392, 0.0000, 0.0000, 0.0000, 0.0000, 0.0000, 0.0000, 0.0000,\n",
              "          0.0000, 0.0000, 0.0000, 0.0000],\n",
              "         [0.0000, 0.0000, 0.0000, 0.0000, 0.0000, 0.0000, 0.0000, 0.0000,\n",
              "          0.0000, 0.0000, 0.0000, 0.3569, 0.9216, 0.9922, 0.6941, 0.0000,\n",
              "          0.0000, 0.0000, 0.0000, 0.0000, 0.0000, 0.0000, 0.0000, 0.0000,\n",
              "          0.0000, 0.0000, 0.0000, 0.0000],\n",
              "         [0.0000, 0.0000, 0.0000, 0.0000, 0.0000, 0.0000, 0.0000, 0.0000,\n",
              "          0.0000, 0.0000, 0.0549, 0.8784, 0.9961, 0.8118, 0.0902, 0.0000,\n",
              "          0.0000, 0.0000, 0.0000, 0.0000, 0.0000, 0.0000, 0.0000, 0.0000,\n",
              "          0.0000, 0.0000, 0.0000, 0.0000],\n",
              "         [0.0000, 0.0000, 0.0000, 0.0000, 0.0000, 0.0000, 0.0000, 0.0000,\n",
              "          0.0000, 0.0314, 0.4078, 0.9922, 0.9922, 0.4275, 0.0000, 0.0000,\n",
              "          0.0000, 0.0000, 0.0000, 0.0000, 0.0000, 0.0000, 0.0000, 0.0000,\n",
              "          0.0000, 0.0000, 0.0000, 0.0000],\n",
              "         [0.0000, 0.0000, 0.0000, 0.0000, 0.0000, 0.0000, 0.0000, 0.0000,\n",
              "          0.0000, 0.6471, 0.8784, 0.9922, 0.6588, 0.0235, 0.0000, 0.0000,\n",
              "          0.0000, 0.0000, 0.0000, 0.0000, 0.0000, 0.0000, 0.0000, 0.0000,\n",
              "          0.0000, 0.0000, 0.0000, 0.0000],\n",
              "         [0.0000, 0.0000, 0.0000, 0.0000, 0.0000, 0.0000, 0.0000, 0.0000,\n",
              "          0.1451, 0.8863, 0.9961, 0.9490, 0.1412, 0.0863, 0.1569, 0.4510,\n",
              "          0.3333, 0.5333, 0.3294, 0.1569, 0.0000, 0.0000, 0.0000, 0.0000,\n",
              "          0.0000, 0.0000, 0.0000, 0.0000],\n",
              "         [0.0000, 0.0000, 0.0000, 0.0000, 0.0000, 0.0000, 0.0000, 0.0000,\n",
              "          0.5333, 0.9922, 0.9961, 0.9451, 0.6471, 0.7373, 0.9922, 0.9961,\n",
              "          0.9922, 0.9922, 0.9922, 0.9922, 0.6784, 0.0588, 0.0000, 0.0000,\n",
              "          0.0000, 0.0000, 0.0000, 0.0000],\n",
              "         [0.0000, 0.0000, 0.0000, 0.0000, 0.0000, 0.0000, 0.0000, 0.0745,\n",
              "          0.7882, 0.9961, 1.0000, 0.9961, 0.9961, 0.9961, 0.9961, 1.0000,\n",
              "          0.9961, 0.9961, 0.9961, 0.9961, 1.0000, 0.6392, 0.0706, 0.0000,\n",
              "          0.0000, 0.0000, 0.0000, 0.0000],\n",
              "         [0.0000, 0.0000, 0.0000, 0.0000, 0.0000, 0.0000, 0.0000, 0.3098,\n",
              "          0.9922, 0.9922, 0.9961, 0.9922, 0.9922, 0.9922, 0.9294, 0.8275,\n",
              "          0.5294, 0.7961, 0.9137, 0.9725, 0.9961, 0.9922, 0.4824, 0.0000,\n",
              "          0.0000, 0.0000, 0.0000, 0.0000],\n",
              "         [0.0000, 0.0000, 0.0000, 0.0000, 0.0000, 0.0000, 0.0000, 0.3098,\n",
              "          0.9922, 0.9922, 0.9961, 0.9686, 0.5647, 0.3059, 0.0706, 0.0000,\n",
              "          0.0000, 0.0000, 0.0000, 0.6471, 0.9961, 0.9922, 0.6824, 0.0000,\n",
              "          0.0000, 0.0000, 0.0000, 0.0000],\n",
              "         [0.0000, 0.0000, 0.0000, 0.0000, 0.0000, 0.0000, 0.0000, 0.3098,\n",
              "          0.9922, 0.9922, 0.9961, 0.5569, 0.0000, 0.0000, 0.0000, 0.0000,\n",
              "          0.0000, 0.0000, 0.0000, 0.5882, 0.9961, 0.9922, 0.6824, 0.0000,\n",
              "          0.0000, 0.0000, 0.0000, 0.0000],\n",
              "         [0.0000, 0.0000, 0.0000, 0.0000, 0.0000, 0.0000, 0.0000, 0.4549,\n",
              "          0.9922, 0.9922, 0.9059, 0.1804, 0.0000, 0.0000, 0.0000, 0.0000,\n",
              "          0.0000, 0.0000, 0.2667, 0.9373, 0.9961, 0.9922, 0.5373, 0.0000,\n",
              "          0.0000, 0.0000, 0.0000, 0.0000],\n",
              "         [0.0000, 0.0000, 0.0000, 0.0000, 0.0000, 0.0000, 0.0000, 0.3098,\n",
              "          0.9961, 0.9961, 0.3255, 0.0000, 0.0000, 0.0000, 0.0000, 0.0549,\n",
              "          0.2627, 0.8784, 0.9961, 0.9961, 1.0000, 0.2980, 0.0000, 0.0000,\n",
              "          0.0000, 0.0000, 0.0000, 0.0000],\n",
              "         [0.0000, 0.0000, 0.0000, 0.0000, 0.0000, 0.0000, 0.0000, 0.3098,\n",
              "          0.9922, 0.9922, 0.9608, 0.6627, 0.4627, 0.4627, 0.6039, 0.8784,\n",
              "          0.9922, 0.9922, 0.9922, 0.9608, 0.4471, 0.0235, 0.0000, 0.0000,\n",
              "          0.0000, 0.0000, 0.0000, 0.0000],\n",
              "         [0.0000, 0.0000, 0.0000, 0.0000, 0.0000, 0.0000, 0.0000, 0.3098,\n",
              "          0.9922, 0.9922, 0.9961, 0.9922, 0.9922, 0.9922, 0.9922, 0.9961,\n",
              "          0.9922, 0.9922, 0.9412, 0.2745, 0.0000, 0.0000, 0.0000, 0.0000,\n",
              "          0.0000, 0.0000, 0.0000, 0.0000],\n",
              "         [0.0000, 0.0000, 0.0000, 0.0000, 0.0000, 0.0000, 0.0000, 0.0235,\n",
              "          0.4902, 0.8980, 0.9961, 0.9922, 0.9922, 0.9922, 0.9922, 0.9961,\n",
              "          0.8588, 0.5725, 0.0902, 0.0000, 0.0000, 0.0000, 0.0000, 0.0000,\n",
              "          0.0000, 0.0000, 0.0000, 0.0000],\n",
              "         [0.0000, 0.0000, 0.0000, 0.0000, 0.0000, 0.0000, 0.0000, 0.0000,\n",
              "          0.0000, 0.0902, 0.6078, 0.7843, 0.9922, 0.9294, 0.6078, 0.5216,\n",
              "          0.0353, 0.0000, 0.0000, 0.0000, 0.0000, 0.0000, 0.0000, 0.0000,\n",
              "          0.0000, 0.0000, 0.0000, 0.0000],\n",
              "         [0.0000, 0.0000, 0.0000, 0.0000, 0.0000, 0.0000, 0.0000, 0.0000,\n",
              "          0.0000, 0.0000, 0.0000, 0.0000, 0.0000, 0.0000, 0.0000, 0.0000,\n",
              "          0.0000, 0.0000, 0.0000, 0.0000, 0.0000, 0.0000, 0.0000, 0.0000,\n",
              "          0.0000, 0.0000, 0.0000, 0.0000],\n",
              "         [0.0000, 0.0000, 0.0000, 0.0000, 0.0000, 0.0000, 0.0000, 0.0000,\n",
              "          0.0000, 0.0000, 0.0000, 0.0000, 0.0000, 0.0000, 0.0000, 0.0000,\n",
              "          0.0000, 0.0000, 0.0000, 0.0000, 0.0000, 0.0000, 0.0000, 0.0000,\n",
              "          0.0000, 0.0000, 0.0000, 0.0000],\n",
              "         [0.0000, 0.0000, 0.0000, 0.0000, 0.0000, 0.0000, 0.0000, 0.0000,\n",
              "          0.0000, 0.0000, 0.0000, 0.0000, 0.0000, 0.0000, 0.0000, 0.0000,\n",
              "          0.0000, 0.0000, 0.0000, 0.0000, 0.0000, 0.0000, 0.0000, 0.0000,\n",
              "          0.0000, 0.0000, 0.0000, 0.0000],\n",
              "         [0.0000, 0.0000, 0.0000, 0.0000, 0.0000, 0.0000, 0.0000, 0.0000,\n",
              "          0.0000, 0.0000, 0.0000, 0.0000, 0.0000, 0.0000, 0.0000, 0.0000,\n",
              "          0.0000, 0.0000, 0.0000, 0.0000, 0.0000, 0.0000, 0.0000, 0.0000,\n",
              "          0.0000, 0.0000, 0.0000, 0.0000],\n",
              "         [0.0000, 0.0000, 0.0000, 0.0000, 0.0000, 0.0000, 0.0000, 0.0000,\n",
              "          0.0000, 0.0000, 0.0000, 0.0000, 0.0000, 0.0000, 0.0000, 0.0000,\n",
              "          0.0000, 0.0000, 0.0000, 0.0000, 0.0000, 0.0000, 0.0000, 0.0000,\n",
              "          0.0000, 0.0000, 0.0000, 0.0000]]])"
            ]
          },
          "metadata": {},
          "execution_count": 53
        }
      ]
    },
    {
      "cell_type": "code",
      "source": [
        "test_data[9146][0].reshape(28,28)\n",
        "plt.imshow(test_data[9146][0].reshape(28,28))"
      ],
      "metadata": {
        "id": "ehxXxYHogeo_",
        "outputId": "c3fd795a-dd1e-42c8-ad1a-50ce7fa2dc9f",
        "colab": {
          "base_uri": "https://localhost:8080/",
          "height": 447
        }
      },
      "execution_count": 55,
      "outputs": [
        {
          "output_type": "execute_result",
          "data": {
            "text/plain": [
              "<matplotlib.image.AxesImage at 0x7d9c2d67c3d0>"
            ]
          },
          "metadata": {},
          "execution_count": 55
        },
        {
          "output_type": "display_data",
          "data": {
            "text/plain": [
              "<Figure size 640x480 with 1 Axes>"
            ],
            "image/png": "[encoded data removed]"
          },
          "metadata": {}
        }
      ]
    },
    {
      "cell_type": "code",
      "source": [
        "model.eval()\n",
        "with torch.no_grad():\n",
        "  new_prediction=model(test_data[9146][0].reshape(1,1,28,28))"
      ],
      "metadata": {
        "id": "ShXLhcaOgqxv"
      },
      "execution_count": 56,
      "outputs": []
    },
    {
      "cell_type": "code",
      "source": [
        "new_prediction.argmax().item()"
      ],
      "metadata": {
        "id": "6D-kIA4Ag5SP",
        "outputId": "12b8cc4b-d92e-4106-bb1c-8cbadd5a3d55",
        "colab": {
          "base_uri": "https://localhost:8080/"
        }
      },
      "execution_count": 57,
      "outputs": [
        {
          "output_type": "execute_result",
          "data": {
            "text/plain": [
              "6"
            ]
          },
          "metadata": {},
          "execution_count": 57
        }
      ]
    },
    {
      "cell_type": "code",
      "source": [],
      "metadata": {
        "id": "F5Ltz3UMhC0_"
      },
      "execution_count": null,
      "outputs": []
    }
  ]
}